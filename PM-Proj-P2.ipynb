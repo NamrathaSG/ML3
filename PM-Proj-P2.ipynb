{
 "cells": [
  {
   "cell_type": "markdown",
   "metadata": {},
   "source": [
    "# Predictive Modeling - Project - Problem 2"
   ]
  },
  {
   "cell_type": "markdown",
   "metadata": {},
   "source": [
    "You are hired by a tour and travel agency which deals in selling holiday packages. You are provided details of 872 employees of a company. Among these employees, some opted for the package and some didn't. You have to help the company in predicting whether an employee will opt for the package or not on the basis of the information given in the data set. Also, find out the important factors on the basis of which the company will focus on particular employees to sell their packages.\n",
    "\n",
    "Dataset for Problem 2: Holiday_Package.csv\n",
    "\n",
    "Data Dictionary:\n",
    "\n",
    "Variable Name\t\tDescription\n",
    "Holiday_Package\t\tOpted for Holiday Package yes/no?\n",
    "Salary \t \t\t\tEmployee salary\n",
    "age \t \t\t\tAge in years\n",
    "edu \t \t\t\tYears of formal education\n",
    "no_young_children\tThe number of young children (younger than 7 years)\n",
    "no_older_children\tNumber of older children\n",
    "foreign \t \t\tforeigner Yes/No\n"
   ]
  },
  {
   "cell_type": "code",
   "execution_count": 1,
   "metadata": {},
   "outputs": [
    {
     "name": "stdout",
     "output_type": "stream",
     "text": [
      "D:\\Workspace\\D-S-B-A\\5-PredictiveModeling\\Project\n"
     ]
    }
   ],
   "source": [
    "#Import all necessary modules\n",
    "import numpy as np\n",
    "import pandas as pd\n",
    "import seaborn as sns\n",
    "import scipy.stats as stats\n",
    "\n",
    "import matplotlib.pyplot as plt\n",
    "%matplotlib inline\n",
    "\n",
    "from IPython.core.interactiveshell import InteractiveShell\n",
    "InteractiveShell.ast_node_interactivity = \"all\"\n",
    "\n",
    "import os \n",
    "cwd = os.getcwd()\n",
    "print(cwd)\n",
    "\n",
    "pd.options.display.max_columns = None\n",
    "pd.options.display.width=None\n",
    "pd.options.display.float_format = '{:,.7}'.format\n",
    "\n",
    "from sklearn.discriminant_analysis import LinearDiscriminantAnalysis\n",
    "\n",
    "from sklearn.metrics import confusion_matrix\n",
    "from sklearn.preprocessing import scale"
   ]
  },
  {
   "cell_type": "code",
   "execution_count": 2,
   "metadata": {},
   "outputs": [
    {
     "data": {
      "text/plain": [
       "Index(['Holiday_Package', 'Salary', 'age', 'education', 'no_young_children',\n",
       "       'no_older_children', 'foreigner'],\n",
       "      dtype='object')"
      ]
     },
     "execution_count": 2,
     "metadata": {},
     "output_type": "execute_result"
    },
    {
     "data": {
      "text/plain": [
       "(872, 7)"
      ]
     },
     "execution_count": 2,
     "metadata": {},
     "output_type": "execute_result"
    },
    {
     "data": {
      "text/plain": [
       "Holiday_Package      object\n",
       "Salary                int64\n",
       "age                   int64\n",
       "education             int64\n",
       "no_young_children     int64\n",
       "no_older_children     int64\n",
       "foreigner            object\n",
       "dtype: object"
      ]
     },
     "execution_count": 2,
     "metadata": {},
     "output_type": "execute_result"
    },
    {
     "name": "stdout",
     "output_type": "stream",
     "text": [
      "<class 'pandas.core.frame.DataFrame'>\n",
      "RangeIndex: 872 entries, 0 to 871\n",
      "Data columns (total 7 columns):\n",
      "Holiday_Package      872 non-null object\n",
      "Salary               872 non-null int64\n",
      "age                  872 non-null int64\n",
      "education            872 non-null int64\n",
      "no_young_children    872 non-null int64\n",
      "no_older_children    872 non-null int64\n",
      "foreigner            872 non-null object\n",
      "dtypes: int64(5), object(2)\n",
      "memory usage: 47.8+ KB\n"
     ]
    },
    {
     "data": {
      "text/html": [
       "<div>\n",
       "<style scoped>\n",
       "    .dataframe tbody tr th:only-of-type {\n",
       "        vertical-align: middle;\n",
       "    }\n",
       "\n",
       "    .dataframe tbody tr th {\n",
       "        vertical-align: top;\n",
       "    }\n",
       "\n",
       "    .dataframe thead th {\n",
       "        text-align: right;\n",
       "    }\n",
       "</style>\n",
       "<table border=\"1\" class=\"dataframe\">\n",
       "  <thead>\n",
       "    <tr style=\"text-align: right;\">\n",
       "      <th></th>\n",
       "      <th>Holiday_Package</th>\n",
       "      <th>Salary</th>\n",
       "      <th>age</th>\n",
       "      <th>education</th>\n",
       "      <th>no_young_children</th>\n",
       "      <th>no_older_children</th>\n",
       "      <th>foreigner</th>\n",
       "    </tr>\n",
       "  </thead>\n",
       "  <tbody>\n",
       "    <tr>\n",
       "      <td>0</td>\n",
       "      <td>no</td>\n",
       "      <td>48412</td>\n",
       "      <td>30</td>\n",
       "      <td>8</td>\n",
       "      <td>1</td>\n",
       "      <td>1</td>\n",
       "      <td>no</td>\n",
       "    </tr>\n",
       "    <tr>\n",
       "      <td>1</td>\n",
       "      <td>yes</td>\n",
       "      <td>37207</td>\n",
       "      <td>45</td>\n",
       "      <td>8</td>\n",
       "      <td>0</td>\n",
       "      <td>1</td>\n",
       "      <td>no</td>\n",
       "    </tr>\n",
       "    <tr>\n",
       "      <td>2</td>\n",
       "      <td>no</td>\n",
       "      <td>58022</td>\n",
       "      <td>46</td>\n",
       "      <td>9</td>\n",
       "      <td>0</td>\n",
       "      <td>0</td>\n",
       "      <td>no</td>\n",
       "    </tr>\n",
       "    <tr>\n",
       "      <td>3</td>\n",
       "      <td>no</td>\n",
       "      <td>66503</td>\n",
       "      <td>31</td>\n",
       "      <td>11</td>\n",
       "      <td>2</td>\n",
       "      <td>0</td>\n",
       "      <td>no</td>\n",
       "    </tr>\n",
       "    <tr>\n",
       "      <td>4</td>\n",
       "      <td>no</td>\n",
       "      <td>66734</td>\n",
       "      <td>44</td>\n",
       "      <td>12</td>\n",
       "      <td>0</td>\n",
       "      <td>2</td>\n",
       "      <td>no</td>\n",
       "    </tr>\n",
       "  </tbody>\n",
       "</table>\n",
       "</div>"
      ],
      "text/plain": [
       "  Holiday_Package  Salary  age  education  no_young_children  \\\n",
       "0              no   48412   30          8                  1   \n",
       "1             yes   37207   45          8                  0   \n",
       "2              no   58022   46          9                  0   \n",
       "3              no   66503   31         11                  2   \n",
       "4              no   66734   44         12                  0   \n",
       "\n",
       "   no_older_children foreigner  \n",
       "0                  1        no  \n",
       "1                  1        no  \n",
       "2                  0        no  \n",
       "3                  0        no  \n",
       "4                  2        no  "
      ]
     },
     "execution_count": 2,
     "metadata": {},
     "output_type": "execute_result"
    },
    {
     "data": {
      "text/html": [
       "<div>\n",
       "<style scoped>\n",
       "    .dataframe tbody tr th:only-of-type {\n",
       "        vertical-align: middle;\n",
       "    }\n",
       "\n",
       "    .dataframe tbody tr th {\n",
       "        vertical-align: top;\n",
       "    }\n",
       "\n",
       "    .dataframe thead th {\n",
       "        text-align: right;\n",
       "    }\n",
       "</style>\n",
       "<table border=\"1\" class=\"dataframe\">\n",
       "  <thead>\n",
       "    <tr style=\"text-align: right;\">\n",
       "      <th></th>\n",
       "      <th>count</th>\n",
       "      <th>mean</th>\n",
       "      <th>std</th>\n",
       "      <th>min</th>\n",
       "      <th>25%</th>\n",
       "      <th>50%</th>\n",
       "      <th>75%</th>\n",
       "      <th>max</th>\n",
       "    </tr>\n",
       "  </thead>\n",
       "  <tbody>\n",
       "    <tr>\n",
       "      <td>Salary</td>\n",
       "      <td>872.0</td>\n",
       "      <td>47,729.17</td>\n",
       "      <td>23,418.67</td>\n",
       "      <td>1,322.0</td>\n",
       "      <td>35,324.0</td>\n",
       "      <td>41,903.5</td>\n",
       "      <td>53,469.5</td>\n",
       "      <td>236,961.0</td>\n",
       "    </tr>\n",
       "    <tr>\n",
       "      <td>age</td>\n",
       "      <td>872.0</td>\n",
       "      <td>39.95528</td>\n",
       "      <td>10.55167</td>\n",
       "      <td>20.0</td>\n",
       "      <td>32.0</td>\n",
       "      <td>39.0</td>\n",
       "      <td>48.0</td>\n",
       "      <td>62.0</td>\n",
       "    </tr>\n",
       "    <tr>\n",
       "      <td>education</td>\n",
       "      <td>872.0</td>\n",
       "      <td>9.307339</td>\n",
       "      <td>3.036259</td>\n",
       "      <td>1.0</td>\n",
       "      <td>8.0</td>\n",
       "      <td>9.0</td>\n",
       "      <td>12.0</td>\n",
       "      <td>21.0</td>\n",
       "    </tr>\n",
       "    <tr>\n",
       "      <td>no_young_children</td>\n",
       "      <td>872.0</td>\n",
       "      <td>0.3119266</td>\n",
       "      <td>0.61287</td>\n",
       "      <td>0.0</td>\n",
       "      <td>0.0</td>\n",
       "      <td>0.0</td>\n",
       "      <td>0.0</td>\n",
       "      <td>3.0</td>\n",
       "    </tr>\n",
       "    <tr>\n",
       "      <td>no_older_children</td>\n",
       "      <td>872.0</td>\n",
       "      <td>0.9827982</td>\n",
       "      <td>1.086786</td>\n",
       "      <td>0.0</td>\n",
       "      <td>0.0</td>\n",
       "      <td>1.0</td>\n",
       "      <td>2.0</td>\n",
       "      <td>6.0</td>\n",
       "    </tr>\n",
       "  </tbody>\n",
       "</table>\n",
       "</div>"
      ],
      "text/plain": [
       "                   count      mean       std     min      25%      50%  \\\n",
       "Salary             872.0 47,729.17 23,418.67 1,322.0 35,324.0 41,903.5   \n",
       "age                872.0  39.95528  10.55167    20.0     32.0     39.0   \n",
       "education          872.0  9.307339  3.036259     1.0      8.0      9.0   \n",
       "no_young_children  872.0 0.3119266   0.61287     0.0      0.0      0.0   \n",
       "no_older_children  872.0 0.9827982  1.086786     0.0      0.0      1.0   \n",
       "\n",
       "                       75%       max  \n",
       "Salary            53,469.5 236,961.0  \n",
       "age                   48.0      62.0  \n",
       "education             12.0      21.0  \n",
       "no_young_children      0.0       3.0  \n",
       "no_older_children      2.0       6.0  "
      ]
     },
     "execution_count": 2,
     "metadata": {},
     "output_type": "execute_result"
    },
    {
     "name": "stdout",
     "output_type": "stream",
     "text": [
      "NA Counts ================>>>\n"
     ]
    },
    {
     "data": {
      "text/plain": [
       "0"
      ]
     },
     "execution_count": 2,
     "metadata": {},
     "output_type": "execute_result"
    },
    {
     "data": {
      "text/plain": [
       "Holiday_Package      0\n",
       "Salary               0\n",
       "age                  0\n",
       "education            0\n",
       "no_young_children    0\n",
       "no_older_children    0\n",
       "foreigner            0\n",
       "dtype: int64"
      ]
     },
     "execution_count": 2,
     "metadata": {},
     "output_type": "execute_result"
    },
    {
     "name": "stdout",
     "output_type": "stream",
     "text": [
      "Number of duplicate rows = 0\n"
     ]
    },
    {
     "data": {
      "text/html": [
       "<div>\n",
       "<style scoped>\n",
       "    .dataframe tbody tr th:only-of-type {\n",
       "        vertical-align: middle;\n",
       "    }\n",
       "\n",
       "    .dataframe tbody tr th {\n",
       "        vertical-align: top;\n",
       "    }\n",
       "\n",
       "    .dataframe thead th {\n",
       "        text-align: right;\n",
       "    }\n",
       "</style>\n",
       "<table border=\"1\" class=\"dataframe\">\n",
       "  <thead>\n",
       "    <tr style=\"text-align: right;\">\n",
       "      <th></th>\n",
       "      <th>Holiday_Package</th>\n",
       "      <th>Salary</th>\n",
       "      <th>age</th>\n",
       "      <th>education</th>\n",
       "      <th>no_young_children</th>\n",
       "      <th>no_older_children</th>\n",
       "      <th>foreigner</th>\n",
       "    </tr>\n",
       "  </thead>\n",
       "  <tbody>\n",
       "  </tbody>\n",
       "</table>\n",
       "</div>"
      ],
      "text/plain": [
       "Empty DataFrame\n",
       "Columns: [Holiday_Package, Salary, age, education, no_young_children, no_older_children, foreigner]\n",
       "Index: []"
      ]
     },
     "execution_count": 2,
     "metadata": {},
     "output_type": "execute_result"
    },
    {
     "name": "stdout",
     "output_type": "stream",
     "text": [
      "Before (872, 7)\n",
      "After (872, 7)\n"
     ]
    },
    {
     "data": {
      "text/plain": [
       "Index(['Holiday_Package', 'Salary', 'age', 'education', 'no_young_children',\n",
       "       'no_older_children', 'foreigner'],\n",
       "      dtype='object')"
      ]
     },
     "execution_count": 2,
     "metadata": {},
     "output_type": "execute_result"
    }
   ],
   "source": [
    "df=pd.read_csv('Holiday_Package.csv')\n",
    "df = df.drop(['sl-no'], axis=1)\n",
    "\n",
    "df.columns\n",
    "df.shape\n",
    "df.dtypes\n",
    "df.info()\n",
    "df.head()\n",
    "df.describe().T\n",
    "\n",
    "print('NA Counts ================>>>')\n",
    "df.isna().sum().sum()\n",
    "df.isna().sum()\n",
    "\n",
    "dups = df.duplicated()\n",
    "print('Number of duplicate rows = %d' % (dups.sum()))\n",
    "df[dups]\n",
    "\n",
    "print('Before',df.shape)\n",
    "df.drop_duplicates(inplace=True) \n",
    "print('After',df.shape)\n",
    "df.columns"
   ]
  },
  {
   "cell_type": "markdown",
   "metadata": {},
   "source": [
    "## EDA"
   ]
  },
  {
   "cell_type": "code",
   "execution_count": 3,
   "metadata": {},
   "outputs": [
    {
     "data": {
      "text/plain": [
       "Index(['Salary', 'age', 'education', 'no_young_children', 'no_older_children'], dtype='object')"
      ]
     },
     "execution_count": 3,
     "metadata": {},
     "output_type": "execute_result"
    },
    {
     "data": {
      "text/html": [
       "<div>\n",
       "<style scoped>\n",
       "    .dataframe tbody tr th:only-of-type {\n",
       "        vertical-align: middle;\n",
       "    }\n",
       "\n",
       "    .dataframe tbody tr th {\n",
       "        vertical-align: top;\n",
       "    }\n",
       "\n",
       "    .dataframe thead th {\n",
       "        text-align: right;\n",
       "    }\n",
       "</style>\n",
       "<table border=\"1\" class=\"dataframe\">\n",
       "  <thead>\n",
       "    <tr style=\"text-align: right;\">\n",
       "      <th></th>\n",
       "      <th>RecCount</th>\n",
       "      <th>Min</th>\n",
       "      <th>Max</th>\n",
       "      <th>Range</th>\n",
       "      <th>Mean</th>\n",
       "      <th>Median</th>\n",
       "      <th>Q1</th>\n",
       "      <th>Q2</th>\n",
       "      <th>Q3</th>\n",
       "      <th>IQR</th>\n",
       "      <th>Skew</th>\n",
       "      <th>Kurtosis</th>\n",
       "      <th>StdDev</th>\n",
       "      <th>Variance</th>\n",
       "      <th>Left3Std</th>\n",
       "      <th>Right3Std</th>\n",
       "      <th>OutlierCount</th>\n",
       "    </tr>\n",
       "  </thead>\n",
       "  <tbody>\n",
       "    <tr>\n",
       "      <td>Salary</td>\n",
       "      <td>872</td>\n",
       "      <td>1322</td>\n",
       "      <td>236961</td>\n",
       "      <td>235639</td>\n",
       "      <td>47,729.17</td>\n",
       "      <td>41,903.5</td>\n",
       "      <td>35,324.0</td>\n",
       "      <td>41,903.5</td>\n",
       "      <td>53,469.5</td>\n",
       "      <td>18,145.5</td>\n",
       "      <td>3.1</td>\n",
       "      <td>15.85</td>\n",
       "      <td>23,418.67</td>\n",
       "      <td>5.48434e+08</td>\n",
       "      <td>-22,526.83</td>\n",
       "      <td>117,985.2</td>\n",
       "      <td>57</td>\n",
       "    </tr>\n",
       "    <tr>\n",
       "      <td>age</td>\n",
       "      <td>872</td>\n",
       "      <td>20</td>\n",
       "      <td>62</td>\n",
       "      <td>42</td>\n",
       "      <td>39.96</td>\n",
       "      <td>39.0</td>\n",
       "      <td>32.0</td>\n",
       "      <td>39.0</td>\n",
       "      <td>48.0</td>\n",
       "      <td>16.0</td>\n",
       "      <td>0.15</td>\n",
       "      <td>-0.91</td>\n",
       "      <td>10.55</td>\n",
       "      <td>111.34</td>\n",
       "      <td>8.3</td>\n",
       "      <td>71.61</td>\n",
       "      <td>0</td>\n",
       "    </tr>\n",
       "    <tr>\n",
       "      <td>education</td>\n",
       "      <td>872</td>\n",
       "      <td>1</td>\n",
       "      <td>21</td>\n",
       "      <td>20</td>\n",
       "      <td>9.31</td>\n",
       "      <td>9.0</td>\n",
       "      <td>8.0</td>\n",
       "      <td>9.0</td>\n",
       "      <td>12.0</td>\n",
       "      <td>4.0</td>\n",
       "      <td>-0.05</td>\n",
       "      <td>0.01</td>\n",
       "      <td>3.04</td>\n",
       "      <td>9.22</td>\n",
       "      <td>0.2</td>\n",
       "      <td>18.42</td>\n",
       "      <td>4</td>\n",
       "    </tr>\n",
       "    <tr>\n",
       "      <td>no_young_children</td>\n",
       "      <td>872</td>\n",
       "      <td>0</td>\n",
       "      <td>3</td>\n",
       "      <td>3</td>\n",
       "      <td>0.31</td>\n",
       "      <td>0.0</td>\n",
       "      <td>0.0</td>\n",
       "      <td>0.0</td>\n",
       "      <td>0.0</td>\n",
       "      <td>0.0</td>\n",
       "      <td>1.95</td>\n",
       "      <td>3.11</td>\n",
       "      <td>0.61</td>\n",
       "      <td>0.38</td>\n",
       "      <td>-1.53</td>\n",
       "      <td>2.15</td>\n",
       "      <td>207</td>\n",
       "    </tr>\n",
       "    <tr>\n",
       "      <td>no_older_children</td>\n",
       "      <td>872</td>\n",
       "      <td>0</td>\n",
       "      <td>6</td>\n",
       "      <td>6</td>\n",
       "      <td>0.98</td>\n",
       "      <td>1.0</td>\n",
       "      <td>0.0</td>\n",
       "      <td>1.0</td>\n",
       "      <td>2.0</td>\n",
       "      <td>2.0</td>\n",
       "      <td>0.95</td>\n",
       "      <td>0.68</td>\n",
       "      <td>1.09</td>\n",
       "      <td>1.18</td>\n",
       "      <td>-2.28</td>\n",
       "      <td>4.24</td>\n",
       "      <td>2</td>\n",
       "    </tr>\n",
       "  </tbody>\n",
       "</table>\n",
       "</div>"
      ],
      "text/plain": [
       "                   RecCount   Min     Max   Range      Mean   Median       Q1  \\\n",
       "Salary                  872  1322  236961  235639 47,729.17 41,903.5 35,324.0   \n",
       "age                     872    20      62      42     39.96     39.0     32.0   \n",
       "education               872     1      21      20      9.31      9.0      8.0   \n",
       "no_young_children       872     0       3       3      0.31      0.0      0.0   \n",
       "no_older_children       872     0       6       6      0.98      1.0      0.0   \n",
       "\n",
       "                        Q2       Q3      IQR  Skew  Kurtosis    StdDev  \\\n",
       "Salary            41,903.5 53,469.5 18,145.5   3.1     15.85 23,418.67   \n",
       "age                   39.0     48.0     16.0  0.15     -0.91     10.55   \n",
       "education              9.0     12.0      4.0 -0.05      0.01      3.04   \n",
       "no_young_children      0.0      0.0      0.0  1.95      3.11      0.61   \n",
       "no_older_children      1.0      2.0      2.0  0.95      0.68      1.09   \n",
       "\n",
       "                     Variance   Left3Std  Right3Std  OutlierCount  \n",
       "Salary            5.48434e+08 -22,526.83  117,985.2            57  \n",
       "age                    111.34        8.3      71.61             0  \n",
       "education                9.22        0.2      18.42             4  \n",
       "no_young_children        0.38      -1.53       2.15           207  \n",
       "no_older_children        1.18      -2.28       4.24             2  "
      ]
     },
     "execution_count": 3,
     "metadata": {},
     "output_type": "execute_result"
    }
   ],
   "source": [
    "dff = df[['Salary', 'age', 'education', 'no_young_children','no_older_children']]\n",
    "\n",
    "Q1 = dff.quantile(0.25)\n",
    "Q3 = dff.quantile(0.75)\n",
    "IQR = Q3 - Q1\n",
    "\n",
    "dff.columns\n",
    "df_items = pd.DataFrame()\n",
    "\n",
    "df_items['RecCount'] = dff.count()\n",
    "df_items['Min'] = dff.min()\n",
    "df_items['Max'] = dff.max()\n",
    "df_items['Range'] = dff.max() - dff.min()\n",
    "\n",
    "df_items['Mean'] = dff.mean()\n",
    "df_items['Median'] = dff.median()\n",
    "df_items['Q1'] = dff.quantile(0.25)\n",
    "df_items['Q2'] = dff.quantile(0.50)\n",
    "df_items['Q3'] = dff.quantile(0.75)\n",
    "df_items['IQR'] = dff.quantile(0.75) - dff.quantile(0.25)\n",
    "df_items['Skew'] = dff.skew()\n",
    "df_items['Kurtosis'] = dff.kurtosis()\n",
    "df_items['StdDev'] = dff.std()\n",
    "df_items['Variance'] = dff.var()\n",
    "df_items['Left3Std'] = df_items['Mean'] - 3 * df_items['StdDev']\n",
    "df_items['Right3Std'] = df_items['Mean'] + 3 * df_items['StdDev']\n",
    "\n",
    "df_items['OutlierCount'] = ((dff < (Q1 - 1.5 * IQR)) | (dff > (Q3 + 1.5 * IQR))).sum()\n",
    "\n",
    "df_items.round(2) \n"
   ]
  },
  {
   "cell_type": "code",
   "execution_count": 4,
   "metadata": {},
   "outputs": [
    {
     "name": "stdout",
     "output_type": "stream",
     "text": [
      "<class 'pandas.core.frame.DataFrame'>\n",
      "Int64Index: 872 entries, 0 to 871\n",
      "Data columns (total 7 columns):\n",
      "Holiday_Package      872 non-null object\n",
      "Salary               872 non-null int64\n",
      "age                  872 non-null int64\n",
      "education            872 non-null int64\n",
      "no_young_children    872 non-null int64\n",
      "no_older_children    872 non-null int64\n",
      "foreigner            872 non-null object\n",
      "dtypes: int64(5), object(2)\n",
      "memory usage: 54.5+ KB\n",
      "3      5\n",
      "2     55\n",
      "1    147\n",
      "0    665\n",
      "Name: no_young_children, dtype: int64\n",
      "6      2\n",
      "5      2\n",
      "4     14\n",
      "3     55\n",
      "1    198\n",
      "2    208\n",
      "0    393\n",
      "Name: no_older_children, dtype: int64\n",
      "yes    401\n",
      "no     471\n",
      "Name: Holiday_Package, dtype: int64\n",
      "yes    216\n",
      "no     656\n",
      "Name: foreigner, dtype: int64\n"
     ]
    }
   ],
   "source": [
    "df.info()\n",
    "print(df.no_young_children.value_counts().sort_values())\n",
    "print(df.no_older_children.value_counts().sort_values())\n",
    "print(df.Holiday_Package.value_counts().sort_values())\n",
    "print(df.foreigner.value_counts().sort_values())"
   ]
  },
  {
   "cell_type": "code",
   "execution_count": 22,
   "metadata": {},
   "outputs": [
    {
     "data": {
      "text/html": [
       "<div>\n",
       "<style scoped>\n",
       "    .dataframe tbody tr th:only-of-type {\n",
       "        vertical-align: middle;\n",
       "    }\n",
       "\n",
       "    .dataframe tbody tr th {\n",
       "        vertical-align: top;\n",
       "    }\n",
       "\n",
       "    .dataframe thead th {\n",
       "        text-align: right;\n",
       "    }\n",
       "</style>\n",
       "<table border=\"1\" class=\"dataframe\">\n",
       "  <thead>\n",
       "    <tr style=\"text-align: right;\">\n",
       "      <th></th>\n",
       "      <th>count</th>\n",
       "      <th>mean</th>\n",
       "      <th>std</th>\n",
       "      <th>min</th>\n",
       "      <th>25%</th>\n",
       "      <th>50%</th>\n",
       "      <th>75%</th>\n",
       "      <th>max</th>\n",
       "    </tr>\n",
       "  </thead>\n",
       "  <tbody>\n",
       "    <tr>\n",
       "      <td>Salary</td>\n",
       "      <td>872.0</td>\n",
       "      <td>47,729.17</td>\n",
       "      <td>23,418.67</td>\n",
       "      <td>1,322.0</td>\n",
       "      <td>35,324.0</td>\n",
       "      <td>41,903.5</td>\n",
       "      <td>53,469.5</td>\n",
       "      <td>236,961.0</td>\n",
       "    </tr>\n",
       "    <tr>\n",
       "      <td>age</td>\n",
       "      <td>872.0</td>\n",
       "      <td>39.95528</td>\n",
       "      <td>10.55167</td>\n",
       "      <td>20.0</td>\n",
       "      <td>32.0</td>\n",
       "      <td>39.0</td>\n",
       "      <td>48.0</td>\n",
       "      <td>62.0</td>\n",
       "    </tr>\n",
       "    <tr>\n",
       "      <td>education</td>\n",
       "      <td>872.0</td>\n",
       "      <td>9.307339</td>\n",
       "      <td>3.036259</td>\n",
       "      <td>1.0</td>\n",
       "      <td>8.0</td>\n",
       "      <td>9.0</td>\n",
       "      <td>12.0</td>\n",
       "      <td>21.0</td>\n",
       "    </tr>\n",
       "    <tr>\n",
       "      <td>no_young_children</td>\n",
       "      <td>872.0</td>\n",
       "      <td>0.3119266</td>\n",
       "      <td>0.61287</td>\n",
       "      <td>0.0</td>\n",
       "      <td>0.0</td>\n",
       "      <td>0.0</td>\n",
       "      <td>0.0</td>\n",
       "      <td>3.0</td>\n",
       "    </tr>\n",
       "    <tr>\n",
       "      <td>no_older_children</td>\n",
       "      <td>872.0</td>\n",
       "      <td>0.9827982</td>\n",
       "      <td>1.086786</td>\n",
       "      <td>0.0</td>\n",
       "      <td>0.0</td>\n",
       "      <td>1.0</td>\n",
       "      <td>2.0</td>\n",
       "      <td>6.0</td>\n",
       "    </tr>\n",
       "  </tbody>\n",
       "</table>\n",
       "</div>"
      ],
      "text/plain": [
       "                   count      mean       std     min      25%      50%  \\\n",
       "Salary             872.0 47,729.17 23,418.67 1,322.0 35,324.0 41,903.5   \n",
       "age                872.0  39.95528  10.55167    20.0     32.0     39.0   \n",
       "education          872.0  9.307339  3.036259     1.0      8.0      9.0   \n",
       "no_young_children  872.0 0.3119266   0.61287     0.0      0.0      0.0   \n",
       "no_older_children  872.0 0.9827982  1.086786     0.0      0.0      1.0   \n",
       "\n",
       "                       75%       max  \n",
       "Salary            53,469.5 236,961.0  \n",
       "age                   48.0      62.0  \n",
       "education             12.0      21.0  \n",
       "no_young_children      0.0       3.0  \n",
       "no_older_children      2.0       6.0  "
      ]
     },
     "execution_count": 22,
     "metadata": {},
     "output_type": "execute_result"
    }
   ],
   "source": [
    "df.describe().T"
   ]
  },
  {
   "cell_type": "markdown",
   "metadata": {},
   "source": [
    "### Check for Missing values"
   ]
  },
  {
   "cell_type": "code",
   "execution_count": 24,
   "metadata": {},
   "outputs": [
    {
     "data": {
      "text/plain": [
       "0"
      ]
     },
     "execution_count": 24,
     "metadata": {},
     "output_type": "execute_result"
    },
    {
     "data": {
      "text/plain": [
       "Holiday_Package      0\n",
       "Salary               0\n",
       "age                  0\n",
       "education            0\n",
       "no_young_children    0\n",
       "no_older_children    0\n",
       "foreigner            0\n",
       "dtype: int64"
      ]
     },
     "execution_count": 24,
     "metadata": {},
     "output_type": "execute_result"
    }
   ],
   "source": [
    "df.isnull().sum().sum()\n",
    "df.isnull().sum()"
   ]
  },
  {
   "cell_type": "markdown",
   "metadata": {},
   "source": [
    "### Imputing missing values"
   ]
  },
  {
   "cell_type": "code",
   "execution_count": 7,
   "metadata": {},
   "outputs": [
    {
     "data": {
      "text/plain": [
       "Churn              0\n",
       "AccountWeeks       0\n",
       "ContractRenewal    0\n",
       "DataPlan           0\n",
       "DataUsage          0\n",
       "CustServCalls      0\n",
       "DayMins            0\n",
       "DayCalls           0\n",
       "MonthlyCharge      0\n",
       "OverageFee         0\n",
       "RoamMins           0\n",
       "dtype: int64"
      ]
     },
     "execution_count": 7,
     "metadata": {},
     "output_type": "execute_result"
    }
   ],
   "source": [
    "#There are no missing values in the dataset. So there is nothing to impute. \n",
    "#for column in df.columns:\n",
    "#    median = df[column].median()\n",
    "#    df[column] = df[column].fillna(median)    \n",
    "        \n",
    "#df.isnull().sum()        "
   ]
  },
  {
   "cell_type": "markdown",
   "metadata": {},
   "source": [
    "### Checking for Duplicates"
   ]
  },
  {
   "cell_type": "code",
   "execution_count": 25,
   "metadata": {},
   "outputs": [
    {
     "name": "stdout",
     "output_type": "stream",
     "text": [
      "Number of duplicate rows = 0\n"
     ]
    }
   ],
   "source": [
    "# Are there any duplicates ?\n",
    "dups = df.duplicated()\n",
    "print('Number of duplicate rows = %d' % (dups.sum()))\n",
    "#df[dups]"
   ]
  },
  {
   "cell_type": "markdown",
   "metadata": {},
   "source": [
    "### Proportion in the Target classes"
   ]
  },
  {
   "cell_type": "code",
   "execution_count": 136,
   "metadata": {},
   "outputs": [
    {
     "data": {
      "text/plain": [
       "0    471\n",
       "1    401\n",
       "Name: Holiday_Package, dtype: int64"
      ]
     },
     "execution_count": 136,
     "metadata": {},
     "output_type": "execute_result"
    },
    {
     "data": {
      "text/plain": [
       "0   54.01376\n",
       "1   45.98624\n",
       "Name: Holiday_Package, dtype: float64"
      ]
     },
     "execution_count": 136,
     "metadata": {},
     "output_type": "execute_result"
    }
   ],
   "source": [
    "df.Holiday_Package.value_counts()\n",
    "df.Holiday_Package.value_counts(normalize=True)*100"
   ]
  },
  {
   "cell_type": "markdown",
   "metadata": {},
   "source": [
    "### Outlier Checks"
   ]
  },
  {
   "cell_type": "code",
   "execution_count": 42,
   "metadata": {},
   "outputs": [
    {
     "data": {
      "text/plain": [
       "<Figure size 1440x288 with 0 Axes>"
      ]
     },
     "execution_count": 42,
     "metadata": {},
     "output_type": "execute_result"
    },
    {
     "data": {
      "text/plain": [
       "<matplotlib.axes._subplots.AxesSubplot at 0x11c00a99148>"
      ]
     },
     "execution_count": 42,
     "metadata": {},
     "output_type": "execute_result"
    },
    {
     "data": {
      "image/png": "[encoded data removed]",
      "text/plain": [
       "<Figure size 1440x288 with 1 Axes>"
      ]
     },
     "metadata": {
      "needs_background": "light"
     },
     "output_type": "display_data"
    }
   ],
   "source": [
    "plt.figure(figsize=(20,4))\n",
    "dff_selected = df[['age', 'education', 'no_young_children','no_older_children']]\n",
    "#dff_selected = df[['Salary']]\n",
    "#data=df_selected.apply(zscore)\n",
    "dff_selected.boxplot(figsize=(6,4))"
   ]
  },
  {
   "cell_type": "code",
   "execution_count": 46,
   "metadata": {},
   "outputs": [
    {
     "data": {
      "image/png": "[encoded data removed]",
      "text/plain": [
       "<Figure size 1728x360 with 5 Axes>"
      ]
     },
     "metadata": {
      "needs_background": "light"
     },
     "output_type": "display_data"
    }
   ],
   "source": [
    "items = ['Salary', 'age', 'education', 'no_young_children','no_older_children']\n",
    "\n",
    "fig, ax = plt.subplots(nrows=1, ncols=5, figsize=(24,5))\n",
    "i = 0 \n",
    "for item in items:\n",
    "    axx=ax[i]\n",
    "    null = sns.distplot(df[[item]], ax = axx, label=item, hist=True, rug=False).set_title(item, fontsize=15)\n",
    "    i=i+1"
   ]
  },
  {
   "cell_type": "code",
   "execution_count": 51,
   "metadata": {},
   "outputs": [
    {
     "name": "stderr",
     "output_type": "stream",
     "text": [
      "C:\\ProgramData\\Anaconda3\\lib\\site-packages\\ipykernel_launcher.py:4: SettingWithCopyWarning: \n",
      "A value is trying to be set on a copy of a slice from a DataFrame.\n",
      "Try using .loc[row_indexer,col_indexer] = value instead\n",
      "\n",
      "See the caveats in the documentation: http://pandas.pydata.org/pandas-docs/stable/user_guide/indexing.html#returning-a-view-versus-a-copy\n",
      "  after removing the cwd from sys.path.\n",
      "C:\\ProgramData\\Anaconda3\\lib\\site-packages\\statsmodels\\nonparametric\\kde.py:487: RuntimeWarning: invalid value encountered in true_divide\n",
      "  binned = fast_linbin(X, a, b, gridsize) / (delta * nobs)\n",
      "C:\\ProgramData\\Anaconda3\\lib\\site-packages\\statsmodels\\nonparametric\\kdetools.py:34: RuntimeWarning: invalid value encountered in double_scalars\n",
      "  FAC1 = 2*(np.pi*bw/RANGE)**2\n"
     ]
    },
    {
     "data": {
      "text/plain": [
       "<seaborn.axisgrid.PairGrid at 0x11c041f0048>"
      ]
     },
     "execution_count": 51,
     "metadata": {},
     "output_type": "execute_result"
    },
    {
     "data": {
      "image/png": "[encoded data removed]",
      "text/plain": [
       "<Figure size 1172.62x1080 with 42 Axes>"
      ]
     },
     "metadata": {
      "needs_background": "light"
     },
     "output_type": "display_data"
    }
   ],
   "source": [
    "pp_df = df[['Holiday_Package', 'Salary', 'age', 'education', 'no_young_children','no_older_children']]\n",
    "\n",
    "#sns.pairplot(pp_df , hue='Holiday_Package', diag_kind = 'kde')\n",
    "pp_df['Holiday_Package'] = pp_df['Holiday_Package'].map({'yes': 1, 'no': 0})\n",
    "sns.pairplot(pp_df , hue='Holiday_Package', diag_kind = 'kde')"
   ]
  },
  {
   "cell_type": "code",
   "execution_count": 52,
   "metadata": {},
   "outputs": [
    {
     "name": "stdout",
     "output_type": "stream",
     "text": [
      "<class 'pandas.core.frame.DataFrame'>\n",
      "Int64Index: 872 entries, 0 to 871\n",
      "Data columns (total 7 columns):\n",
      "Holiday_Package      872 non-null object\n",
      "Salary               872 non-null int64\n",
      "age                  872 non-null int64\n",
      "education            872 non-null int64\n",
      "no_young_children    872 non-null int64\n",
      "no_older_children    872 non-null int64\n",
      "foreigner            872 non-null object\n",
      "dtypes: int64(5), object(2)\n",
      "memory usage: 94.5+ KB\n"
     ]
    }
   ],
   "source": [
    "df.info()\n",
    "df_safe = df\n"
   ]
  },
  {
   "cell_type": "code",
   "execution_count": 134,
   "metadata": {},
   "outputs": [
    {
     "data": {
      "text/html": [
       "<div>\n",
       "<style scoped>\n",
       "    .dataframe tbody tr th:only-of-type {\n",
       "        vertical-align: middle;\n",
       "    }\n",
       "\n",
       "    .dataframe tbody tr th {\n",
       "        vertical-align: top;\n",
       "    }\n",
       "\n",
       "    .dataframe thead th {\n",
       "        text-align: right;\n",
       "    }\n",
       "</style>\n",
       "<table border=\"1\" class=\"dataframe\">\n",
       "  <thead>\n",
       "    <tr style=\"text-align: right;\">\n",
       "      <th></th>\n",
       "      <th>Salary</th>\n",
       "      <th>age</th>\n",
       "      <th>education</th>\n",
       "      <th>no_young_children</th>\n",
       "      <th>no_older_children</th>\n",
       "    </tr>\n",
       "  </thead>\n",
       "  <tbody>\n",
       "    <tr>\n",
       "      <td>Salary</td>\n",
       "      <td>1.0</td>\n",
       "      <td>0.0717</td>\n",
       "      <td>0.3265</td>\n",
       "      <td>-0.0297</td>\n",
       "      <td>0.1138</td>\n",
       "    </tr>\n",
       "    <tr>\n",
       "      <td>age</td>\n",
       "      <td>0.0717</td>\n",
       "      <td>1.0</td>\n",
       "      <td>-0.1493</td>\n",
       "      <td>-0.5191</td>\n",
       "      <td>-0.1162</td>\n",
       "    </tr>\n",
       "    <tr>\n",
       "      <td>education</td>\n",
       "      <td>0.3265</td>\n",
       "      <td>-0.1493</td>\n",
       "      <td>1.0</td>\n",
       "      <td>0.0983</td>\n",
       "      <td>-0.0363</td>\n",
       "    </tr>\n",
       "    <tr>\n",
       "      <td>no_young_children</td>\n",
       "      <td>-0.0297</td>\n",
       "      <td>-0.5191</td>\n",
       "      <td>0.0983</td>\n",
       "      <td>1.0</td>\n",
       "      <td>-0.2384</td>\n",
       "    </tr>\n",
       "    <tr>\n",
       "      <td>no_older_children</td>\n",
       "      <td>0.1138</td>\n",
       "      <td>-0.1162</td>\n",
       "      <td>-0.0363</td>\n",
       "      <td>-0.2384</td>\n",
       "      <td>1.0</td>\n",
       "    </tr>\n",
       "  </tbody>\n",
       "</table>\n",
       "</div>"
      ],
      "text/plain": [
       "                   Salary     age  education  no_young_children  \\\n",
       "Salary                1.0  0.0717     0.3265            -0.0297   \n",
       "age                0.0717     1.0    -0.1493            -0.5191   \n",
       "education          0.3265 -0.1493        1.0             0.0983   \n",
       "no_young_children -0.0297 -0.5191     0.0983                1.0   \n",
       "no_older_children  0.1138 -0.1162    -0.0363            -0.2384   \n",
       "\n",
       "                   no_older_children  \n",
       "Salary                        0.1138  \n",
       "age                          -0.1162  \n",
       "education                    -0.0363  \n",
       "no_young_children            -0.2384  \n",
       "no_older_children                1.0  "
      ]
     },
     "execution_count": 134,
     "metadata": {},
     "output_type": "execute_result"
    },
    {
     "data": {
      "text/html": [
       "<div>\n",
       "<style scoped>\n",
       "    .dataframe tbody tr th:only-of-type {\n",
       "        vertical-align: middle;\n",
       "    }\n",
       "\n",
       "    .dataframe tbody tr th {\n",
       "        vertical-align: top;\n",
       "    }\n",
       "\n",
       "    .dataframe thead th {\n",
       "        text-align: right;\n",
       "    }\n",
       "</style>\n",
       "<table border=\"1\" class=\"dataframe\">\n",
       "  <thead>\n",
       "    <tr style=\"text-align: right;\">\n",
       "      <th></th>\n",
       "      <th>FirstVariable</th>\n",
       "      <th>SecondVariable</th>\n",
       "      <th>Correlation</th>\n",
       "    </tr>\n",
       "  </thead>\n",
       "  <tbody>\n",
       "    <tr>\n",
       "      <td>0</td>\n",
       "      <td>age</td>\n",
       "      <td>no_young_children</td>\n",
       "      <td>-0.519</td>\n",
       "    </tr>\n",
       "    <tr>\n",
       "      <td>1</td>\n",
       "      <td>Salary</td>\n",
       "      <td>education</td>\n",
       "      <td>0.327</td>\n",
       "    </tr>\n",
       "    <tr>\n",
       "      <td>2</td>\n",
       "      <td>no_young_children</td>\n",
       "      <td>no_older_children</td>\n",
       "      <td>-0.238</td>\n",
       "    </tr>\n",
       "    <tr>\n",
       "      <td>3</td>\n",
       "      <td>age</td>\n",
       "      <td>education</td>\n",
       "      <td>-0.149</td>\n",
       "    </tr>\n",
       "    <tr>\n",
       "      <td>4</td>\n",
       "      <td>age</td>\n",
       "      <td>no_older_children</td>\n",
       "      <td>-0.116</td>\n",
       "    </tr>\n",
       "    <tr>\n",
       "      <td>5</td>\n",
       "      <td>Salary</td>\n",
       "      <td>no_older_children</td>\n",
       "      <td>0.114</td>\n",
       "    </tr>\n",
       "    <tr>\n",
       "      <td>6</td>\n",
       "      <td>education</td>\n",
       "      <td>no_young_children</td>\n",
       "      <td>0.098</td>\n",
       "    </tr>\n",
       "    <tr>\n",
       "      <td>7</td>\n",
       "      <td>Salary</td>\n",
       "      <td>age</td>\n",
       "      <td>0.072</td>\n",
       "    </tr>\n",
       "    <tr>\n",
       "      <td>8</td>\n",
       "      <td>education</td>\n",
       "      <td>no_older_children</td>\n",
       "      <td>-0.036</td>\n",
       "    </tr>\n",
       "    <tr>\n",
       "      <td>9</td>\n",
       "      <td>Salary</td>\n",
       "      <td>no_young_children</td>\n",
       "      <td>-0.03</td>\n",
       "    </tr>\n",
       "  </tbody>\n",
       "</table>\n",
       "</div>"
      ],
      "text/plain": [
       "       FirstVariable     SecondVariable  Correlation\n",
       "0                age  no_young_children       -0.519\n",
       "1             Salary          education        0.327\n",
       "2  no_young_children  no_older_children       -0.238\n",
       "3                age          education       -0.149\n",
       "4                age  no_older_children       -0.116\n",
       "5             Salary  no_older_children        0.114\n",
       "6          education  no_young_children        0.098\n",
       "7             Salary                age        0.072\n",
       "8          education  no_older_children       -0.036\n",
       "9             Salary  no_young_children        -0.03"
      ]
     },
     "execution_count": 134,
     "metadata": {},
     "output_type": "execute_result"
    }
   ],
   "source": [
    "pp_df=pd.read_csv('Holiday_Package.csv')\n",
    "pp_df = pp_df.drop(['sl-no'], axis=1)\n",
    "pp_df = pp_df[['Holiday_Package', 'Salary', 'age', 'education', 'no_young_children','no_older_children']]\n",
    "pp_df.corr().round(4)\n",
    "\n",
    "def mosthighlycorrelated(mydataframe, numtoreport):\n",
    "    # find the correlations\n",
    "    cormatrix = mydataframe.corr()\n",
    "    # set the correlations on the diagonal or lower triangle to zero,\n",
    "    # so they will not be reported as the highest ones:\n",
    "    cormatrix *= np.tri(*cormatrix.values.shape, k=-1).T\n",
    "    # find the top n correlations\n",
    "    cormatrix = cormatrix.stack()\n",
    "    cormatrix = cormatrix.reindex(cormatrix.abs().sort_values(ascending=False).index).reset_index()\n",
    "    # assign human-friendly names\n",
    "    cormatrix.columns = [\"FirstVariable\", \"SecondVariable\", \"Correlation\"]\n",
    "    return cormatrix.head(numtoreport)\n",
    "\n",
    "mosthighlycorrelated(pp_df, 10).round(3)"
   ]
  },
  {
   "cell_type": "markdown",
   "metadata": {},
   "source": [
    "### Data split and preparation for Modeling\n"
   ]
  },
  {
   "cell_type": "code",
   "execution_count": 7,
   "metadata": {},
   "outputs": [
    {
     "data": {
      "text/html": [
       "<div>\n",
       "<style scoped>\n",
       "    .dataframe tbody tr th:only-of-type {\n",
       "        vertical-align: middle;\n",
       "    }\n",
       "\n",
       "    .dataframe tbody tr th {\n",
       "        vertical-align: top;\n",
       "    }\n",
       "\n",
       "    .dataframe thead th {\n",
       "        text-align: right;\n",
       "    }\n",
       "</style>\n",
       "<table border=\"1\" class=\"dataframe\">\n",
       "  <thead>\n",
       "    <tr style=\"text-align: right;\">\n",
       "      <th></th>\n",
       "      <th>Holiday_Package</th>\n",
       "      <th>Salary</th>\n",
       "      <th>age</th>\n",
       "      <th>education</th>\n",
       "      <th>no_young_children</th>\n",
       "      <th>no_older_children</th>\n",
       "      <th>foreigner</th>\n",
       "    </tr>\n",
       "  </thead>\n",
       "  <tbody>\n",
       "    <tr>\n",
       "      <td>0</td>\n",
       "      <td>0</td>\n",
       "      <td>48412</td>\n",
       "      <td>30</td>\n",
       "      <td>8</td>\n",
       "      <td>1</td>\n",
       "      <td>1</td>\n",
       "      <td>0</td>\n",
       "    </tr>\n",
       "    <tr>\n",
       "      <td>1</td>\n",
       "      <td>1</td>\n",
       "      <td>37207</td>\n",
       "      <td>45</td>\n",
       "      <td>8</td>\n",
       "      <td>0</td>\n",
       "      <td>1</td>\n",
       "      <td>0</td>\n",
       "    </tr>\n",
       "    <tr>\n",
       "      <td>2</td>\n",
       "      <td>0</td>\n",
       "      <td>58022</td>\n",
       "      <td>46</td>\n",
       "      <td>9</td>\n",
       "      <td>0</td>\n",
       "      <td>0</td>\n",
       "      <td>0</td>\n",
       "    </tr>\n",
       "    <tr>\n",
       "      <td>3</td>\n",
       "      <td>0</td>\n",
       "      <td>66503</td>\n",
       "      <td>31</td>\n",
       "      <td>11</td>\n",
       "      <td>2</td>\n",
       "      <td>0</td>\n",
       "      <td>0</td>\n",
       "    </tr>\n",
       "    <tr>\n",
       "      <td>4</td>\n",
       "      <td>0</td>\n",
       "      <td>66734</td>\n",
       "      <td>44</td>\n",
       "      <td>12</td>\n",
       "      <td>0</td>\n",
       "      <td>2</td>\n",
       "      <td>0</td>\n",
       "    </tr>\n",
       "  </tbody>\n",
       "</table>\n",
       "</div>"
      ],
      "text/plain": [
       "   Holiday_Package  Salary  age  education  no_young_children  \\\n",
       "0                0   48412   30          8                  1   \n",
       "1                1   37207   45          8                  0   \n",
       "2                0   58022   46          9                  0   \n",
       "3                0   66503   31         11                  2   \n",
       "4                0   66734   44         12                  0   \n",
       "\n",
       "   no_older_children  foreigner  \n",
       "0                  1          0  \n",
       "1                  1          0  \n",
       "2                  0          0  \n",
       "3                  0          0  \n",
       "4                  2          0  "
      ]
     },
     "execution_count": 7,
     "metadata": {},
     "output_type": "execute_result"
    }
   ],
   "source": [
    "#categorical Data Encoding\n",
    "df['Holiday_Package'] = df['Holiday_Package'].map({'yes': 1, 'no': 0})\n",
    "df['foreigner'] = df['foreigner'].map({'yes': 1, 'no': 0})\n",
    "df.head()"
   ]
  },
  {
   "cell_type": "markdown",
   "metadata": {},
   "source": [
    "### Logistic Regression Model"
   ]
  },
  {
   "cell_type": "code",
   "execution_count": 8,
   "metadata": {},
   "outputs": [
    {
     "data": {
      "text/html": [
       "<div>\n",
       "<style scoped>\n",
       "    .dataframe tbody tr th:only-of-type {\n",
       "        vertical-align: middle;\n",
       "    }\n",
       "\n",
       "    .dataframe tbody tr th {\n",
       "        vertical-align: top;\n",
       "    }\n",
       "\n",
       "    .dataframe thead th {\n",
       "        text-align: right;\n",
       "    }\n",
       "</style>\n",
       "<table border=\"1\" class=\"dataframe\">\n",
       "  <thead>\n",
       "    <tr style=\"text-align: right;\">\n",
       "      <th></th>\n",
       "      <th>Salary</th>\n",
       "      <th>age</th>\n",
       "      <th>education</th>\n",
       "      <th>no_young_children</th>\n",
       "      <th>no_older_children</th>\n",
       "      <th>foreigner</th>\n",
       "    </tr>\n",
       "  </thead>\n",
       "  <tbody>\n",
       "    <tr>\n",
       "      <td>0</td>\n",
       "      <td>48412</td>\n",
       "      <td>30</td>\n",
       "      <td>8</td>\n",
       "      <td>1</td>\n",
       "      <td>1</td>\n",
       "      <td>0</td>\n",
       "    </tr>\n",
       "    <tr>\n",
       "      <td>1</td>\n",
       "      <td>37207</td>\n",
       "      <td>45</td>\n",
       "      <td>8</td>\n",
       "      <td>0</td>\n",
       "      <td>1</td>\n",
       "      <td>0</td>\n",
       "    </tr>\n",
       "    <tr>\n",
       "      <td>2</td>\n",
       "      <td>58022</td>\n",
       "      <td>46</td>\n",
       "      <td>9</td>\n",
       "      <td>0</td>\n",
       "      <td>0</td>\n",
       "      <td>0</td>\n",
       "    </tr>\n",
       "    <tr>\n",
       "      <td>3</td>\n",
       "      <td>66503</td>\n",
       "      <td>31</td>\n",
       "      <td>11</td>\n",
       "      <td>2</td>\n",
       "      <td>0</td>\n",
       "      <td>0</td>\n",
       "    </tr>\n",
       "    <tr>\n",
       "      <td>4</td>\n",
       "      <td>66734</td>\n",
       "      <td>44</td>\n",
       "      <td>12</td>\n",
       "      <td>0</td>\n",
       "      <td>2</td>\n",
       "      <td>0</td>\n",
       "    </tr>\n",
       "  </tbody>\n",
       "</table>\n",
       "</div>"
      ],
      "text/plain": [
       "   Salary  age  education  no_young_children  no_older_children  foreigner\n",
       "0   48412   30          8                  1                  1          0\n",
       "1   37207   45          8                  0                  1          0\n",
       "2   58022   46          9                  0                  0          0\n",
       "3   66503   31         11                  2                  0          0\n",
       "4   66734   44         12                  0                  2          0"
      ]
     },
     "execution_count": 8,
     "metadata": {},
     "output_type": "execute_result"
    },
    {
     "data": {
      "text/plain": [
       "0    0\n",
       "1    1\n",
       "2    0\n",
       "3    0\n",
       "4    0\n",
       "Name: Holiday_Package, dtype: int64"
      ]
     },
     "execution_count": 8,
     "metadata": {},
     "output_type": "execute_result"
    },
    {
     "data": {
      "text/plain": [
       "(610, 6)"
      ]
     },
     "execution_count": 8,
     "metadata": {},
     "output_type": "execute_result"
    },
    {
     "data": {
      "text/plain": [
       "(610,)"
      ]
     },
     "execution_count": 8,
     "metadata": {},
     "output_type": "execute_result"
    },
    {
     "data": {
      "text/plain": [
       "(262, 6)"
      ]
     },
     "execution_count": 8,
     "metadata": {},
     "output_type": "execute_result"
    },
    {
     "data": {
      "text/plain": [
       "(262,)"
      ]
     },
     "execution_count": 8,
     "metadata": {},
     "output_type": "execute_result"
    }
   ],
   "source": [
    "from sklearn.model_selection import train_test_split\n",
    "# calculate accuracy measures and confusion matrix\n",
    "from sklearn import metrics\n",
    "from sklearn.linear_model import LogisticRegression\n",
    "from sklearn.metrics import roc_auc_score,roc_curve,classification_report,confusion_matrix\n",
    "\n",
    "x=df.drop(['Holiday_Package'], axis=1) \n",
    "y=df.Holiday_Package\n",
    "\n",
    "x.head()\n",
    "y.head()\n",
    "\n",
    "x_train, x_test, y_train, y_test = train_test_split(x, y, test_size=0.30, random_state=1)\n",
    "x_train.shape\n",
    "y_train.shape\n",
    "x_test.shape\n",
    "y_test.shape\n"
   ]
  },
  {
   "cell_type": "code",
   "execution_count": 9,
   "metadata": {},
   "outputs": [
    {
     "name": "stderr",
     "output_type": "stream",
     "text": [
      "C:\\ProgramData\\Anaconda3\\lib\\site-packages\\sklearn\\linear_model\\logistic.py:432: FutureWarning: Default solver will be changed to 'lbfgs' in 0.22. Specify a solver to silence this warning.\n",
      "  FutureWarning)\n"
     ]
    },
    {
     "data": {
      "text/plain": [
       "LogisticRegression(C=1.0, class_weight=None, dual=False, fit_intercept=True,\n",
       "                   intercept_scaling=1, l1_ratio=None, max_iter=100,\n",
       "                   multi_class='warn', n_jobs=None, penalty='l2',\n",
       "                   random_state=None, solver='warn', tol=0.0001, verbose=0,\n",
       "                   warm_start=False)"
      ]
     },
     "execution_count": 9,
     "metadata": {},
     "output_type": "execute_result"
    }
   ],
   "source": [
    "# Fit the model on original data i.e. before upsampling\n",
    "# Fit the Logistic Regression model\n",
    "model = LogisticRegression()\n",
    "model.fit(x_train, y_train)"
   ]
  },
  {
   "cell_type": "code",
   "execution_count": 10,
   "metadata": {},
   "outputs": [],
   "source": [
    "#Train and Test Data Predict\n",
    "ytrain_predict = model.predict(x_train)\n",
    "ytest_predict = model.predict(x_test)"
   ]
  },
  {
   "cell_type": "code",
   "execution_count": 11,
   "metadata": {},
   "outputs": [
    {
     "data": {
      "text/plain": [
       "0.521311475409836"
      ]
     },
     "execution_count": 11,
     "metadata": {},
     "output_type": "execute_result"
    }
   ],
   "source": [
    "# Accuracy - Training Data\n",
    "model.score(x_train, y_train)"
   ]
  },
  {
   "cell_type": "code",
   "execution_count": 15,
   "metadata": {},
   "outputs": [
    {
     "data": {
      "text/plain": [
       "Index(['Salary', 'age', 'education', 'no_young_children', 'no_older_children',\n",
       "       'foreigner'],\n",
       "      dtype='object')"
      ]
     },
     "execution_count": 15,
     "metadata": {},
     "output_type": "execute_result"
    },
    {
     "data": {
      "text/plain": [
       "array([[-9.78325745e-06,  5.66565917e-03,  3.01728438e-03,\n",
       "        -1.12019224e-03,  1.63224052e-03,  1.35907234e-03]])"
      ]
     },
     "execution_count": 15,
     "metadata": {},
     "output_type": "execute_result"
    }
   ],
   "source": [
    "x_train.columns\n",
    "model.coef_"
   ]
  },
  {
   "cell_type": "code",
   "execution_count": 13,
   "metadata": {},
   "outputs": [
    {
     "data": {
      "text/plain": [
       "array([[0.49856664, 0.50143336],\n",
       "       [0.54277095, 0.45722905],\n",
       "       [0.74855356, 0.25144644],\n",
       "       ...,\n",
       "       [0.51294268, 0.48705732],\n",
       "       [0.64815513, 0.35184487],\n",
       "       [0.65996221, 0.34003779]])"
      ]
     },
     "execution_count": 13,
     "metadata": {},
     "output_type": "execute_result"
    },
    {
     "name": "stdout",
     "output_type": "stream",
     "text": [
      "AUC: 0.56784\n"
     ]
    },
    {
     "data": {
      "text/plain": [
       "[<matplotlib.lines.Line2D at 0x2abf2793f08>]"
      ]
     },
     "execution_count": 13,
     "metadata": {},
     "output_type": "execute_result"
    },
    {
     "data": {
      "text/plain": [
       "[<matplotlib.lines.Line2D at 0x2abf2733748>]"
      ]
     },
     "execution_count": 13,
     "metadata": {},
     "output_type": "execute_result"
    },
    {
     "data": {
      "image/png": "[encoded data removed]",
      "text/plain": [
       "<Figure size 432x288 with 1 Axes>"
      ]
     },
     "metadata": {
      "needs_background": "light"
     },
     "output_type": "display_data"
    }
   ],
   "source": [
    "# predict probabilities\n",
    "probs = model.predict_proba(x_train)\n",
    "probs\n",
    "# keep probabilities for the positive outcome only\n",
    "probs = probs[:, 1]\n",
    "# calculate AUC\n",
    "auc = roc_auc_score(y_train, probs)\n",
    "print('AUC: %.5f' % auc)\n",
    "# calculate roc curve\n",
    "train_fpr, train_tpr, train_thresholds = roc_curve(y_train, probs)\n",
    "plt.plot([0, 1], [0, 1], linestyle='--')\n",
    "# plot the roc curve for the model\n",
    "plt.plot(train_fpr, train_tpr)"
   ]
  },
  {
   "cell_type": "code",
   "execution_count": 16,
   "metadata": {},
   "outputs": [
    {
     "data": {
      "text/plain": [
       "0.5381679389312977"
      ]
     },
     "execution_count": 16,
     "metadata": {},
     "output_type": "execute_result"
    }
   ],
   "source": [
    "# Accuracy - Test Data\n",
    "model.score(x_test, y_test)"
   ]
  },
  {
   "cell_type": "code",
   "execution_count": 17,
   "metadata": {},
   "outputs": [
    {
     "name": "stdout",
     "output_type": "stream",
     "text": [
      "AUC: 0.62700\n"
     ]
    },
    {
     "data": {
      "text/plain": [
       "[<matplotlib.lines.Line2D at 0x2abf2806e08>]"
      ]
     },
     "execution_count": 17,
     "metadata": {},
     "output_type": "execute_result"
    },
    {
     "data": {
      "text/plain": [
       "[<matplotlib.lines.Line2D at 0x2abf27e5a48>]"
      ]
     },
     "execution_count": 17,
     "metadata": {},
     "output_type": "execute_result"
    },
    {
     "data": {
      "image/png": "[encoded data removed]",
      "text/plain": [
       "<Figure size 432x288 with 1 Axes>"
      ]
     },
     "metadata": {
      "needs_background": "light"
     },
     "output_type": "display_data"
    }
   ],
   "source": [
    "# predict probabilities\n",
    "probs = model.predict_proba(x_test)\n",
    "# keep probabilities for the positive outcome only\n",
    "probs = probs[:, 1]\n",
    "# calculate AUC\n",
    "auc = roc_auc_score(y_test, probs)\n",
    "print('AUC: %.5f' % auc)\n",
    "# calculate roc curve\n",
    "test_fpr, test_tpr, test_thresholds = roc_curve(y_test, probs)\n",
    "plt.plot([0, 1], [0, 1], linestyle='--')\n",
    "# plot the roc curve for the model\n",
    "plt.plot(test_fpr, test_tpr)"
   ]
  },
  {
   "cell_type": "code",
   "execution_count": 18,
   "metadata": {},
   "outputs": [],
   "source": [
    "## Given a confusion matrix as input, this function prints the accuracy, recall, specificity and precision\n",
    "# This is the result given by Scikit learn confusion matrix. So we need to be careful as to what is TP, TN, Etc. \n",
    "#                                      Predicted\n",
    "#          --------------------------------------------------------\n",
    "#          |     True Negative (TN)   |    False Positive (FP)    |\n",
    "# Actual   --------------------------------------------------------\n",
    "#          |     False Negative (FN)  |    True Positive (TP)     |\n",
    "#          --------------------------------------------------------\n",
    "#F1 Score is needed when you want to seek a balance between Precision and Recall.\n",
    "\n",
    "def get_cm_stats(cm):\n",
    "    tp = cm[1][1]\n",
    "    tn = cm[0][0]\n",
    "    fp = cm[0][1]\n",
    "    fn = cm[1][0]\n",
    "\n",
    "    accuracy = ( tp + tn) / (tp + tn + fp + fn)\n",
    "    recall = tp / (tp + fn)\n",
    "    specificity = tn / (tn + fp)\n",
    "    precision = tp / (tp + fp)\n",
    "    f1_score = 2 * (precision * recall)/(precision + recall)\n",
    "    \n",
    "    print ('Accuracy: %.5f' % accuracy, '   ','Recall: %.5f' % recall, '   ', 'Specificity: %.5f' % specificity)\n",
    "    print()\n",
    "    print ( 'Precision: %.5f' % precision, '   ', 'F1 Score: %.5f' % f1_score)\n",
    "    return"
   ]
  },
  {
   "cell_type": "code",
   "execution_count": 19,
   "metadata": {},
   "outputs": [
    {
     "data": {
      "text/plain": [
       "array([[294,  32],\n",
       "       [260,  24]], dtype=int64)"
      ]
     },
     "execution_count": 19,
     "metadata": {},
     "output_type": "execute_result"
    },
    {
     "name": "stdout",
     "output_type": "stream",
     "text": [
      "---------------------------------------------------------------------------------\n",
      "              precision    recall  f1-score   support\n",
      "\n",
      "           0       0.53      0.90      0.67       326\n",
      "           1       0.43      0.08      0.14       284\n",
      "\n",
      "    accuracy                           0.52       610\n",
      "   macro avg       0.48      0.49      0.40       610\n",
      "weighted avg       0.48      0.52      0.42       610\n",
      "\n",
      "---------------------------------------------------------------------------------\n",
      "Accuracy: 0.52131     Recall: 0.08451     Specificity: 0.90184\n",
      "\n",
      "Precision: 0.42857     F1 Score: 0.14118\n"
     ]
    }
   ],
   "source": [
    "cmx = confusion_matrix(y_train, ytrain_predict)\n",
    "cmx\n",
    "print(\"---------------------------------------------------------------------------------\")\n",
    "print(classification_report(y_train, ytrain_predict))\n",
    "print(\"---------------------------------------------------------------------------------\")\n",
    "get_cm_stats(cmx)\n"
   ]
  },
  {
   "cell_type": "code",
   "execution_count": 20,
   "metadata": {},
   "outputs": [
    {
     "data": {
      "text/plain": [
       "array([[129,  16],\n",
       "       [105,  12]], dtype=int64)"
      ]
     },
     "execution_count": 20,
     "metadata": {},
     "output_type": "execute_result"
    },
    {
     "name": "stdout",
     "output_type": "stream",
     "text": [
      "---------------------------------------------------------------------------------\n",
      "              precision    recall  f1-score   support\n",
      "\n",
      "           0       0.55      0.89      0.68       145\n",
      "           1       0.43      0.10      0.17       117\n",
      "\n",
      "    accuracy                           0.54       262\n",
      "   macro avg       0.49      0.50      0.42       262\n",
      "weighted avg       0.50      0.54      0.45       262\n",
      "\n",
      "---------------------------------------------------------------------------------\n",
      "Accuracy: 0.53817     Recall: 0.10256     Specificity: 0.88966\n",
      "\n",
      "Precision: 0.42857     F1 Score: 0.16552\n"
     ]
    }
   ],
   "source": [
    "prisoner_cm_test=confusion_matrix(y_test, ytest_predict)\n",
    "prisoner_cm_test\n",
    "print(\"---------------------------------------------------------------------------------\")\n",
    "print(classification_report(y_test, ytest_predict))\n",
    "print(\"---------------------------------------------------------------------------------\")\n",
    "get_cm_stats(prisoner_cm_test)"
   ]
  },
  {
   "cell_type": "markdown",
   "metadata": {},
   "source": [
    "### LDA Model"
   ]
  },
  {
   "cell_type": "code",
   "execution_count": 21,
   "metadata": {},
   "outputs": [],
   "source": [
    "# Copy all the predictor variables into X dataframe\n",
    "X = df.drop('Holiday_Package', axis=1)\n",
    "X = np.asmatrix(X)\n",
    "#Scale X\n",
    "#X = scale(X)\n",
    "\n",
    "# Copy target into the y dataframe. \n",
    "y = np.asarray(df[['Holiday_Package']])"
   ]
  },
  {
   "cell_type": "code",
   "execution_count": 120,
   "metadata": {},
   "outputs": [
    {
     "data": {
      "text/html": [
       "<div>\n",
       "<style scoped>\n",
       "    .dataframe tbody tr th:only-of-type {\n",
       "        vertical-align: middle;\n",
       "    }\n",
       "\n",
       "    .dataframe tbody tr th {\n",
       "        vertical-align: top;\n",
       "    }\n",
       "\n",
       "    .dataframe thead th {\n",
       "        text-align: right;\n",
       "    }\n",
       "</style>\n",
       "<table border=\"1\" class=\"dataframe\">\n",
       "  <thead>\n",
       "    <tr style=\"text-align: right;\">\n",
       "      <th></th>\n",
       "      <th>Holiday_Package</th>\n",
       "      <th>Salary</th>\n",
       "      <th>age</th>\n",
       "      <th>education</th>\n",
       "      <th>no_young_children</th>\n",
       "      <th>no_older_children</th>\n",
       "      <th>foreigner</th>\n",
       "    </tr>\n",
       "  </thead>\n",
       "  <tbody>\n",
       "    <tr>\n",
       "      <td>0</td>\n",
       "      <td>0</td>\n",
       "      <td>48412</td>\n",
       "      <td>30</td>\n",
       "      <td>8</td>\n",
       "      <td>1</td>\n",
       "      <td>1</td>\n",
       "      <td>0</td>\n",
       "    </tr>\n",
       "    <tr>\n",
       "      <td>1</td>\n",
       "      <td>1</td>\n",
       "      <td>37207</td>\n",
       "      <td>45</td>\n",
       "      <td>8</td>\n",
       "      <td>0</td>\n",
       "      <td>1</td>\n",
       "      <td>0</td>\n",
       "    </tr>\n",
       "    <tr>\n",
       "      <td>2</td>\n",
       "      <td>0</td>\n",
       "      <td>58022</td>\n",
       "      <td>46</td>\n",
       "      <td>9</td>\n",
       "      <td>0</td>\n",
       "      <td>0</td>\n",
       "      <td>0</td>\n",
       "    </tr>\n",
       "    <tr>\n",
       "      <td>3</td>\n",
       "      <td>0</td>\n",
       "      <td>66503</td>\n",
       "      <td>31</td>\n",
       "      <td>11</td>\n",
       "      <td>2</td>\n",
       "      <td>0</td>\n",
       "      <td>0</td>\n",
       "    </tr>\n",
       "    <tr>\n",
       "      <td>4</td>\n",
       "      <td>0</td>\n",
       "      <td>66734</td>\n",
       "      <td>44</td>\n",
       "      <td>12</td>\n",
       "      <td>0</td>\n",
       "      <td>2</td>\n",
       "      <td>0</td>\n",
       "    </tr>\n",
       "  </tbody>\n",
       "</table>\n",
       "</div>"
      ],
      "text/plain": [
       "   Holiday_Package  Salary  age  education  no_young_children  \\\n",
       "0                0   48412   30          8                  1   \n",
       "1                1   37207   45          8                  0   \n",
       "2                0   58022   46          9                  0   \n",
       "3                0   66503   31         11                  2   \n",
       "4                0   66734   44         12                  0   \n",
       "\n",
       "   no_older_children  foreigner  \n",
       "0                  1          0  \n",
       "1                  1          0  \n",
       "2                  0          0  \n",
       "3                  0          0  \n",
       "4                  2          0  "
      ]
     },
     "execution_count": 120,
     "metadata": {},
     "output_type": "execute_result"
    }
   ],
   "source": [
    "#df= df.drop(['Prediction'], axis=1)\n",
    "df.head()"
   ]
  },
  {
   "cell_type": "code",
   "execution_count": 22,
   "metadata": {},
   "outputs": [
    {
     "data": {
      "text/html": [
       "<div>\n",
       "<style scoped>\n",
       "    .dataframe tbody tr th:only-of-type {\n",
       "        vertical-align: middle;\n",
       "    }\n",
       "\n",
       "    .dataframe tbody tr th {\n",
       "        vertical-align: top;\n",
       "    }\n",
       "\n",
       "    .dataframe thead th {\n",
       "        text-align: right;\n",
       "    }\n",
       "</style>\n",
       "<table border=\"1\" class=\"dataframe\">\n",
       "  <thead>\n",
       "    <tr style=\"text-align: right;\">\n",
       "      <th></th>\n",
       "      <th>Salary</th>\n",
       "      <th>age</th>\n",
       "      <th>education</th>\n",
       "      <th>no_young_children</th>\n",
       "      <th>no_older_children</th>\n",
       "      <th>foreigner</th>\n",
       "    </tr>\n",
       "  </thead>\n",
       "  <tbody>\n",
       "    <tr>\n",
       "      <td>0</td>\n",
       "      <td>48412</td>\n",
       "      <td>30</td>\n",
       "      <td>8</td>\n",
       "      <td>1</td>\n",
       "      <td>1</td>\n",
       "      <td>0</td>\n",
       "    </tr>\n",
       "    <tr>\n",
       "      <td>1</td>\n",
       "      <td>37207</td>\n",
       "      <td>45</td>\n",
       "      <td>8</td>\n",
       "      <td>0</td>\n",
       "      <td>1</td>\n",
       "      <td>0</td>\n",
       "    </tr>\n",
       "    <tr>\n",
       "      <td>2</td>\n",
       "      <td>58022</td>\n",
       "      <td>46</td>\n",
       "      <td>9</td>\n",
       "      <td>0</td>\n",
       "      <td>0</td>\n",
       "      <td>0</td>\n",
       "    </tr>\n",
       "    <tr>\n",
       "      <td>3</td>\n",
       "      <td>66503</td>\n",
       "      <td>31</td>\n",
       "      <td>11</td>\n",
       "      <td>2</td>\n",
       "      <td>0</td>\n",
       "      <td>0</td>\n",
       "    </tr>\n",
       "    <tr>\n",
       "      <td>4</td>\n",
       "      <td>66734</td>\n",
       "      <td>44</td>\n",
       "      <td>12</td>\n",
       "      <td>0</td>\n",
       "      <td>2</td>\n",
       "      <td>0</td>\n",
       "    </tr>\n",
       "  </tbody>\n",
       "</table>\n",
       "</div>"
      ],
      "text/plain": [
       "   Salary  age  education  no_young_children  no_older_children  foreigner\n",
       "0   48412   30          8                  1                  1          0\n",
       "1   37207   45          8                  0                  1          0\n",
       "2   58022   46          9                  0                  0          0\n",
       "3   66503   31         11                  2                  0          0\n",
       "4   66734   44         12                  0                  2          0"
      ]
     },
     "execution_count": 22,
     "metadata": {},
     "output_type": "execute_result"
    },
    {
     "data": {
      "text/plain": [
       "0    0\n",
       "1    1\n",
       "2    0\n",
       "3    0\n",
       "4    0\n",
       "Name: Holiday_Package, dtype: int64"
      ]
     },
     "execution_count": 22,
     "metadata": {},
     "output_type": "execute_result"
    },
    {
     "data": {
      "text/plain": [
       "(610, 6)"
      ]
     },
     "execution_count": 22,
     "metadata": {},
     "output_type": "execute_result"
    },
    {
     "data": {
      "text/plain": [
       "(610,)"
      ]
     },
     "execution_count": 22,
     "metadata": {},
     "output_type": "execute_result"
    },
    {
     "data": {
      "text/plain": [
       "(262, 6)"
      ]
     },
     "execution_count": 22,
     "metadata": {},
     "output_type": "execute_result"
    },
    {
     "data": {
      "text/plain": [
       "(262,)"
      ]
     },
     "execution_count": 22,
     "metadata": {},
     "output_type": "execute_result"
    }
   ],
   "source": [
    "x=df.drop(['Holiday_Package'], axis=1) \n",
    "y=df.Holiday_Package\n",
    "\n",
    "x.head()\n",
    "y.head()\n",
    "\n",
    "x_train, x_test, y_train, y_test = train_test_split(x, y, test_size=0.30, random_state=1)\n",
    "x_train.shape\n",
    "y_train.shape\n",
    "x_test.shape\n",
    "y_test.shape"
   ]
  },
  {
   "cell_type": "code",
   "execution_count": 23,
   "metadata": {},
   "outputs": [
    {
     "data": {
      "text/plain": [
       "LinearDiscriminantAnalysis(n_components=None, priors=None, shrinkage=None,\n",
       "                           solver='svd', store_covariance=False, tol=0.0001)"
      ]
     },
     "execution_count": 23,
     "metadata": {},
     "output_type": "execute_result"
    },
    {
     "data": {
      "text/plain": [
       "LinearDiscriminantAnalysis(n_components=None, priors=None, shrinkage=None,\n",
       "                           solver='svd', store_covariance=False, tol=0.0001)"
      ]
     },
     "execution_count": 23,
     "metadata": {},
     "output_type": "execute_result"
    }
   ],
   "source": [
    "#Build LDA Model\n",
    "lda = LinearDiscriminantAnalysis()\n",
    "lda.fit(x_train, y_train)\n",
    "lda"
   ]
  },
  {
   "cell_type": "markdown",
   "metadata": {},
   "source": [
    "### Prediction"
   ]
  },
  {
   "cell_type": "code",
   "execution_count": 24,
   "metadata": {},
   "outputs": [],
   "source": [
    "#Train and Test Data Predict\n",
    "ytrain_predict = lda.predict(x_train)\n",
    "ytest_predict = lda.predict(x_test)"
   ]
  },
  {
   "cell_type": "code",
   "execution_count": 25,
   "metadata": {},
   "outputs": [
    {
     "data": {
      "text/plain": [
       "0.6721311475409836"
      ]
     },
     "execution_count": 25,
     "metadata": {},
     "output_type": "execute_result"
    }
   ],
   "source": [
    "# Accuracy - Training Data\n",
    "lda.score(x_train, y_train)"
   ]
  },
  {
   "cell_type": "code",
   "execution_count": 36,
   "metadata": {},
   "outputs": [
    {
     "data": {
      "text/plain": [
       "Index(['Salary', 'age', 'education', 'no_young_children', 'no_older_children',\n",
       "       'foreigner'],\n",
       "      dtype='object')"
      ]
     },
     "execution_count": 36,
     "metadata": {},
     "output_type": "execute_result"
    },
    {
     "data": {
      "text/plain": [
       "array([[-1.47549548e-05, -5.43037831e-02,  7.59653739e-02,\n",
       "        -1.42854644e+00, -4.63592980e-02,  1.62390347e+00]])"
      ]
     },
     "execution_count": 36,
     "metadata": {},
     "output_type": "execute_result"
    }
   ],
   "source": [
    "x_train.columns\n",
    "lda.coef_"
   ]
  },
  {
   "cell_type": "code",
   "execution_count": 26,
   "metadata": {},
   "outputs": [
    {
     "name": "stdout",
     "output_type": "stream",
     "text": [
      "AUC: 0.56784\n"
     ]
    },
    {
     "data": {
      "text/plain": [
       "[<matplotlib.lines.Line2D at 0x2abf2ac9c48>]"
      ]
     },
     "execution_count": 26,
     "metadata": {},
     "output_type": "execute_result"
    },
    {
     "data": {
      "text/plain": [
       "[<matplotlib.lines.Line2D at 0x2abf2866a48>]"
      ]
     },
     "execution_count": 26,
     "metadata": {},
     "output_type": "execute_result"
    },
    {
     "data": {
      "image/png": "[encoded data removed]",
      "text/plain": [
       "<Figure size 432x288 with 1 Axes>"
      ]
     },
     "metadata": {
      "needs_background": "light"
     },
     "output_type": "display_data"
    }
   ],
   "source": [
    "# predict probabilities\n",
    "probs = model.predict_proba(x_train)\n",
    "# keep probabilities for the positive outcome only\n",
    "probs = probs[:, 1]\n",
    "# calculate AUC\n",
    "auc = roc_auc_score(y_train, probs)\n",
    "print('AUC: %.5f' % auc)\n",
    "# calculate roc curve\n",
    "train_fpr, train_tpr, train_thresholds = roc_curve(y_train, probs)\n",
    "plt.plot([0, 1], [0, 1], linestyle='--')\n",
    "# plot the roc curve for the model\n",
    "plt.plot(train_fpr, train_tpr)"
   ]
  },
  {
   "cell_type": "code",
   "execution_count": 27,
   "metadata": {},
   "outputs": [
    {
     "data": {
      "text/plain": [
       "0.6412213740458015"
      ]
     },
     "execution_count": 27,
     "metadata": {},
     "output_type": "execute_result"
    }
   ],
   "source": [
    "# Accuracy - Test Data\n",
    "lda.score(x_test, y_test)"
   ]
  },
  {
   "cell_type": "code",
   "execution_count": 28,
   "metadata": {},
   "outputs": [
    {
     "name": "stdout",
     "output_type": "stream",
     "text": [
      "AUC: 0.62700\n"
     ]
    },
    {
     "data": {
      "text/plain": [
       "[<matplotlib.lines.Line2D at 0x2abf2b20c48>]"
      ]
     },
     "execution_count": 28,
     "metadata": {},
     "output_type": "execute_result"
    },
    {
     "data": {
      "text/plain": [
       "[<matplotlib.lines.Line2D at 0x2abf2b03408>]"
      ]
     },
     "execution_count": 28,
     "metadata": {},
     "output_type": "execute_result"
    },
    {
     "data": {
      "image/png": "[encoded data removed]",
      "text/plain": [
       "<Figure size 432x288 with 1 Axes>"
      ]
     },
     "metadata": {
      "needs_background": "light"
     },
     "output_type": "display_data"
    }
   ],
   "source": [
    "# predict probabilities\n",
    "probs = model.predict_proba(x_test)\n",
    "# keep probabilities for the positive outcome only\n",
    "probs = probs[:, 1]\n",
    "# calculate AUC\n",
    "auc = roc_auc_score(y_test, probs)\n",
    "print('AUC: %.5f' % auc)\n",
    "# calculate roc curve\n",
    "test_fpr, test_tpr, test_thresholds = roc_curve(y_test, probs)\n",
    "plt.plot([0, 1], [0, 1], linestyle='--')\n",
    "# plot the roc curve for the model\n",
    "plt.plot(test_fpr, test_tpr)"
   ]
  },
  {
   "cell_type": "code",
   "execution_count": 29,
   "metadata": {},
   "outputs": [
    {
     "data": {
      "text/plain": [
       "array([[252,  74],\n",
       "       [126, 158]], dtype=int64)"
      ]
     },
     "execution_count": 29,
     "metadata": {},
     "output_type": "execute_result"
    },
    {
     "name": "stdout",
     "output_type": "stream",
     "text": [
      "---------------------------------------------------------------------------------\n",
      "              precision    recall  f1-score   support\n",
      "\n",
      "           0       0.67      0.77      0.72       326\n",
      "           1       0.68      0.56      0.61       284\n",
      "\n",
      "    accuracy                           0.67       610\n",
      "   macro avg       0.67      0.66      0.66       610\n",
      "weighted avg       0.67      0.67      0.67       610\n",
      "\n",
      "---------------------------------------------------------------------------------\n",
      "Accuracy: 0.67213     Recall: 0.55634     Specificity: 0.77301\n",
      "\n",
      "Precision: 0.68103     F1 Score: 0.61240\n"
     ]
    }
   ],
   "source": [
    "cmx = confusion_matrix(y_train, ytrain_predict)\n",
    "cmx\n",
    "print(\"---------------------------------------------------------------------------------\")\n",
    "print(classification_report(y_train, ytrain_predict))\n",
    "print(\"---------------------------------------------------------------------------------\")\n",
    "get_cm_stats(cmx)"
   ]
  },
  {
   "cell_type": "code",
   "execution_count": 30,
   "metadata": {},
   "outputs": [
    {
     "data": {
      "text/plain": [
       "array([[103,  42],\n",
       "       [ 52,  65]], dtype=int64)"
      ]
     },
     "execution_count": 30,
     "metadata": {},
     "output_type": "execute_result"
    },
    {
     "name": "stdout",
     "output_type": "stream",
     "text": [
      "---------------------------------------------------------------------------------\n",
      "              precision    recall  f1-score   support\n",
      "\n",
      "           0       0.66      0.71      0.69       145\n",
      "           1       0.61      0.56      0.58       117\n",
      "\n",
      "    accuracy                           0.64       262\n",
      "   macro avg       0.64      0.63      0.63       262\n",
      "weighted avg       0.64      0.64      0.64       262\n",
      "\n",
      "---------------------------------------------------------------------------------\n",
      "Accuracy: 0.64122     Recall: 0.55556     Specificity: 0.71034\n",
      "\n",
      "Precision: 0.60748     F1 Score: 0.58036\n"
     ]
    }
   ],
   "source": [
    "prisoner_cm_test=confusion_matrix(y_test, ytest_predict)\n",
    "prisoner_cm_test\n",
    "print(\"---------------------------------------------------------------------------------\")\n",
    "print(classification_report(y_test, ytest_predict))\n",
    "print(\"---------------------------------------------------------------------------------\")\n",
    "get_cm_stats(prisoner_cm_test)"
   ]
  },
  {
   "cell_type": "code",
   "execution_count": 31,
   "metadata": {},
   "outputs": [
    {
     "data": {
      "text/plain": [
       "QuadraticDiscriminantAnalysis(priors=None, reg_param=0.001,\n",
       "                              store_covariance=False, tol=0.0001)"
      ]
     },
     "execution_count": 31,
     "metadata": {},
     "output_type": "execute_result"
    },
    {
     "data": {
      "text/plain": [
       "0.6697247706422018"
      ]
     },
     "execution_count": 31,
     "metadata": {},
     "output_type": "execute_result"
    },
    {
     "ename": "NameError",
     "evalue": "name 'pred_class' is not defined",
     "output_type": "error",
     "traceback": [
      "\u001b[1;31m---------------------------------------------------------------------------\u001b[0m",
      "\u001b[1;31mNameError\u001b[0m                                 Traceback (most recent call last)",
      "\u001b[1;32m<ipython-input-31-1d9995ea6d00>\u001b[0m in \u001b[0;36m<module>\u001b[1;34m\u001b[0m\n\u001b[0;32m      8\u001b[0m \u001b[1;31m#classification_report(y_train, pred_class)\u001b[0m\u001b[1;33m\u001b[0m\u001b[1;33m\u001b[0m\u001b[1;33m\u001b[0m\u001b[0m\n\u001b[0;32m      9\u001b[0m \u001b[1;33m\u001b[0m\u001b[0m\n\u001b[1;32m---> 10\u001b[1;33m \u001b[0mprint\u001b[0m\u001b[1;33m(\u001b[0m\u001b[0mclassification_report\u001b[0m\u001b[1;33m(\u001b[0m\u001b[0my_train\u001b[0m\u001b[1;33m,\u001b[0m \u001b[0mpred_class\u001b[0m\u001b[1;33m)\u001b[0m\u001b[1;33m)\u001b[0m\u001b[1;33m\u001b[0m\u001b[1;33m\u001b[0m\u001b[0m\n\u001b[0m\u001b[0;32m     11\u001b[0m \u001b[1;33m\u001b[0m\u001b[0m\n",
      "\u001b[1;31mNameError\u001b[0m: name 'pred_class' is not defined"
     ]
    }
   ],
   "source": [
    "from sklearn.discriminant_analysis import QuadraticDiscriminantAnalysis\n",
    "Qclf = QuadraticDiscriminantAnalysis(reg_param=.001)\n",
    "mod=Qclf.fit(x_train,y_train)\n",
    "mod\n",
    "\n",
    "mod.score(X,y)\n",
    "\n",
    "#classification_report(y_train, pred_class)\n",
    "\n",
    "print(classification_report(y_train, pred_class))\n",
    "\n"
   ]
  },
  {
   "cell_type": "markdown",
   "metadata": {},
   "source": [
    "# Conclusion"
   ]
  },
  {
   "cell_type": "code",
   "execution_count": null,
   "metadata": {},
   "outputs": [],
   "source": [
    "from sklearn.discriminant_analysis import QuadraticDiscriminantAnalysis"
   ]
  },
  {
   "cell_type": "markdown",
   "metadata": {},
   "source": [
    "The model accuracy is 85%, which is the same value as the number of class 0 observations in the dataset. The higher precision and lower recall value supports this statement. i.e model is only able to correctly predict 25% of the class 1 cases . This confirms the model is affected by class imbalance problem.\n",
    "Since, we have only 3333 observations, if re-build the same LDA model with more number of data, an even better model could be built.  \n",
    "Alternatively, Logistic Regression and Random Forest can also be used on this dataset to build the predictive model and chose the model which gives a better performance result."
   ]
  },
  {
   "cell_type": "code",
   "execution_count": 65,
   "metadata": {},
   "outputs": [],
   "source": [
    "from sklearn.discriminant_analysis import QuadraticDiscriminantAnalysis"
   ]
  },
  {
   "cell_type": "code",
   "execution_count": 76,
   "metadata": {},
   "outputs": [
    {
     "name": "stderr",
     "output_type": "stream",
     "text": [
      "C:\\Anaconda3\\lib\\site-packages\\sklearn\\utils\\validation.py:760: DataConversionWarning: A column-vector y was passed when a 1d array was expected. Please change the shape of y to (n_samples, ), for example using ravel().\n",
      "  y = column_or_1d(y, warn=True)\n"
     ]
    },
    {
     "data": {
      "text/plain": [
       "QuadraticDiscriminantAnalysis(priors=None, reg_param=0.001,\n",
       "                              store_covariance=False, tol=0.0001)"
      ]
     },
     "execution_count": 76,
     "metadata": {},
     "output_type": "execute_result"
    }
   ],
   "source": [
    "Qclf = QuadraticDiscriminantAnalysis(reg_param=.001)\n",
    "model=Qclf.fit(X,y)\n",
    "model"
   ]
  },
  {
   "cell_type": "code",
   "execution_count": 77,
   "metadata": {},
   "outputs": [
    {
     "data": {
      "text/plain": [
       "0.8625862586258626"
      ]
     },
     "execution_count": 77,
     "metadata": {},
     "output_type": "execute_result"
    }
   ],
   "source": [
    "model.score(X,y)"
   ]
  },
  {
   "cell_type": "code",
   "execution_count": 78,
   "metadata": {},
   "outputs": [
    {
     "name": "stdout",
     "output_type": "stream",
     "text": [
      "              precision    recall  f1-score   support\n",
      "\n",
      "           0       0.88      0.95      0.92      2850\n",
      "           1       0.48      0.25      0.33       483\n",
      "\n",
      "    accuracy                           0.85      3333\n",
      "   macro avg       0.68      0.60      0.62      3333\n",
      "weighted avg       0.82      0.85      0.83      3333\n",
      "\n"
     ]
    }
   ],
   "source": [
    "print(classification_report(y, pred_class))"
   ]
  },
  {
   "cell_type": "code",
   "execution_count": 32,
   "metadata": {},
   "outputs": [
    {
     "data": {
      "text/html": [
       "<div>\n",
       "<style scoped>\n",
       "    .dataframe tbody tr th:only-of-type {\n",
       "        vertical-align: middle;\n",
       "    }\n",
       "\n",
       "    .dataframe tbody tr th {\n",
       "        vertical-align: top;\n",
       "    }\n",
       "\n",
       "    .dataframe thead th {\n",
       "        text-align: right;\n",
       "    }\n",
       "</style>\n",
       "<table border=\"1\" class=\"dataframe\">\n",
       "  <thead>\n",
       "    <tr style=\"text-align: right;\">\n",
       "      <th></th>\n",
       "      <th>Holiday_Package</th>\n",
       "      <th>Salary</th>\n",
       "      <th>age</th>\n",
       "      <th>education</th>\n",
       "      <th>no_young_children</th>\n",
       "      <th>no_older_children</th>\n",
       "      <th>foreigner</th>\n",
       "    </tr>\n",
       "  </thead>\n",
       "  <tbody>\n",
       "    <tr>\n",
       "      <td>0</td>\n",
       "      <td>0</td>\n",
       "      <td>48412</td>\n",
       "      <td>30</td>\n",
       "      <td>8</td>\n",
       "      <td>1</td>\n",
       "      <td>1</td>\n",
       "      <td>0</td>\n",
       "    </tr>\n",
       "    <tr>\n",
       "      <td>1</td>\n",
       "      <td>1</td>\n",
       "      <td>37207</td>\n",
       "      <td>45</td>\n",
       "      <td>8</td>\n",
       "      <td>0</td>\n",
       "      <td>1</td>\n",
       "      <td>0</td>\n",
       "    </tr>\n",
       "    <tr>\n",
       "      <td>2</td>\n",
       "      <td>0</td>\n",
       "      <td>58022</td>\n",
       "      <td>46</td>\n",
       "      <td>9</td>\n",
       "      <td>0</td>\n",
       "      <td>0</td>\n",
       "      <td>0</td>\n",
       "    </tr>\n",
       "    <tr>\n",
       "      <td>3</td>\n",
       "      <td>0</td>\n",
       "      <td>66503</td>\n",
       "      <td>31</td>\n",
       "      <td>11</td>\n",
       "      <td>2</td>\n",
       "      <td>0</td>\n",
       "      <td>0</td>\n",
       "    </tr>\n",
       "    <tr>\n",
       "      <td>4</td>\n",
       "      <td>0</td>\n",
       "      <td>66734</td>\n",
       "      <td>44</td>\n",
       "      <td>12</td>\n",
       "      <td>0</td>\n",
       "      <td>2</td>\n",
       "      <td>0</td>\n",
       "    </tr>\n",
       "  </tbody>\n",
       "</table>\n",
       "</div>"
      ],
      "text/plain": [
       "   Holiday_Package  Salary  age  education  no_young_children  \\\n",
       "0                0   48412   30          8                  1   \n",
       "1                1   37207   45          8                  0   \n",
       "2                0   58022   46          9                  0   \n",
       "3                0   66503   31         11                  2   \n",
       "4                0   66734   44         12                  0   \n",
       "\n",
       "   no_older_children  foreigner  \n",
       "0                  1          0  \n",
       "1                  1          0  \n",
       "2                  0          0  \n",
       "3                  0          0  \n",
       "4                  2          0  "
      ]
     },
     "execution_count": 32,
     "metadata": {},
     "output_type": "execute_result"
    }
   ],
   "source": [
    "df.head()"
   ]
  },
  {
   "cell_type": "code",
   "execution_count": 35,
   "metadata": {},
   "outputs": [
    {
     "data": {
      "text/plain": [
       "Intercept                1.253172\n",
       "Salary              -3.350243e-06\n",
       "age                   -0.01165179\n",
       "education             -0.00961365\n",
       "no_young_children      -0.2449525\n",
       "no_older_children    -0.002004436\n",
       "dtype: float64"
      ]
     },
     "execution_count": 35,
     "metadata": {},
     "output_type": "execute_result"
    },
    {
     "name": "stdout",
     "output_type": "stream",
     "text": [
      "                            OLS Regression Results                            \n",
      "==============================================================================\n",
      "Dep. Variable:        Holiday_Package   R-squared:                       0.110\n",
      "Model:                            OLS   Adj. R-squared:                  0.105\n",
      "Method:                 Least Squares   F-statistic:                     21.35\n",
      "Date:                Sun, 17 May 2020   Prob (F-statistic):           3.51e-20\n",
      "Time:                        18:23:44   Log-Likelihood:                -579.39\n",
      "No. Observations:                 872   AIC:                             1171.\n",
      "Df Residuals:                     866   BIC:                             1199.\n",
      "Df Model:                           5                                         \n",
      "Covariance Type:            nonrobust                                         \n",
      "=====================================================================================\n",
      "                        coef    std err          t      P>|t|      [0.025      0.975]\n",
      "-------------------------------------------------------------------------------------\n",
      "Intercept             1.2532      0.106     11.806      0.000       1.045       1.462\n",
      "Salary             -3.35e-06   7.38e-07     -4.539      0.000    -4.8e-06    -1.9e-06\n",
      "age                  -0.0117      0.002     -6.168      0.000      -0.015      -0.008\n",
      "education            -0.0096      0.006     -1.687      0.092      -0.021       0.002\n",
      "no_young_children    -0.2450      0.033     -7.499      0.000      -0.309      -0.181\n",
      "no_older_children    -0.0020      0.016     -0.125      0.901      -0.034       0.030\n",
      "==============================================================================\n",
      "Omnibus:                     4902.828   Durbin-Watson:                   1.871\n",
      "Prob(Omnibus):                  0.000   Jarque-Bera (JB):               96.154\n",
      "Skew:                           0.114   Prob(JB):                     1.32e-21\n",
      "Kurtosis:                       1.389   Cond. No.                     3.59e+05\n",
      "==============================================================================\n",
      "\n",
      "Warnings:\n",
      "[1] Standard Errors assume that the covariance matrix of the errors is correctly specified.\n",
      "[2] The condition number is large, 3.59e+05. This might indicate that there are\n",
      "strong multicollinearity or other numerical problems.\n"
     ]
    }
   ],
   "source": [
    "# Fit the OLS model and get the params\n",
    "#pp_df = pp_df[['Holiday_Package', 'Salary', 'age', 'education', 'no_young_children','no_older_children']]\n",
    "import statsmodels.formula.api as smf\n",
    "lm = smf.ols(formula= 'Holiday_Package ~ Salary+age+education+no_young_children+no_older_children', data = df).fit()\n",
    "#lm = smf.ols(formula= 'price ~ length+cut+color+clarity+depth+table', data = df).fit()\n",
    "lm.params\n",
    "print(lm.summary())\n"
   ]
  }
 ],
 "metadata": {
  "hide_input": false,
  "kernelspec": {
   "display_name": "Python 3",
   "language": "python",
   "name": "python3"
  },
  "language_info": {
   "codemirror_mode": {
    "name": "ipython",
    "version": 3
   },
   "file_extension": ".py",
   "mimetype": "text/x-python",
   "name": "python",
   "nbconvert_exporter": "python",
   "pygments_lexer": "ipython3",
   "version": "3.7.4"
  }
 },
 "nbformat": 4,
 "nbformat_minor": 2
}
